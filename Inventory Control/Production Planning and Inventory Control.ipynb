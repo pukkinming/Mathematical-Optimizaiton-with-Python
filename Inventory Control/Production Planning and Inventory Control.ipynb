{
 "cells": [
  {
   "cell_type": "markdown",
   "metadata": {},
   "source": [
    "# A Refresher on Production Planning and Inventory Control\n",
    "\n",
    "## Table of Content <a class=\"anchor\" id=\"toc\"></a>\n",
    "* [Single-Period Production Model](#single)\n",
    "* [Multi-Period Production Model](#multi)\n",
    "* [Multi-Period Production Smoothing Model](#multi_smooth)"
   ]
  },
  {
   "cell_type": "markdown",
   "metadata": {},
   "source": [
    "## i) Single-Period Production Model <a class=\"anchor\" id=\"signle\"></a> \n",
    "[Click here to TOC](#toc)\n",
    "\n",
    "This is example 2.3-4 from [Operations Research, 8th Edition by Taha](https://www.amazon.com/Operations-Research-Introduction-Hamdy-Taha/dp/0131889230/ref=sr_1_1?ie=UTF8&qid=1537392218&sr=8-1&keywords=operations+research+taha+8).\n",
    "\n",
    "In preparation for the winter season, a clothing company is manufacturing parka and goose overcoats, insulated pants, and gloves. All products are manufactured in four different departments: cutting, insulating, sewing, and packaging. The company has received firm orders for its products. The contract stipulates a penalty for undelivered items. Devise an optimal production plan for the company based on the following data:\n",
    "\n",
    "<img src=\"./single_period.png\" style=\"width: 600px\"><br/>\n",
    "\n",
    "### 1. Model \n",
    "\n",
    "The definition of the variables is straightforward. \n",
    "- Let $x_1$, $x_2$, $x_3$, $x_4$ be the number of parka jackets, goose jackets, pairs of pants and gloves respectively.\n",
    "- Let $s_j$ be the number of shortage units of product $j, j = 1, 2, 3, 4$\n",
    "- Total profit is $30 x_1 + 40 x_2 + 20 x_3 + 10 x_4 - 15 s_1 - 20 s_2 - 10 s_3 - 8 s_4$\n",
    "\n",
    "So the whole formulation looks like:\n",
    "$$ \\text{max}_{x_j, s_j} \\enspace 30 x_1 + 40 x_2 + 20 x_3 + 10 x_4 - 15 s_1 - 20 s_2 - 10 s_3 - 8 s_4 $$ \n",
    "$$ \\\\ 0.3 x_1 + 0.3 x_2 + 0.25 x_3 + 0.15 x_4 \\leq 1000 $$ \n",
    "$$ \\\\ 0.25 x_1 + 0.35 x_2 + 0.3 x_3 + 0.1 x_4 \\leq 1000 $$\n",
    "$$ \\\\ 0.45 x_1 + 0.5 x_2 + 0.4 x_3 + 0.22 x_4 \\leq 1000 $$\n",
    "$$ \\\\ 0.15 x_1 + 0.15 x_2 + 0.1 x_3 + 0.05 x_4 \\leq 1000 $$\n",
    "$$ \\\\ x_1 + s_1 = 800 $$\n",
    "$$ \\\\ x_2 + s_2 = 750 $$\n",
    "$$ \\\\ x_3 + s_3 = 600 $$\n",
    "$$ \\\\ x_4 + s_4 = 500 $$\n",
    "$$ \\\\ x_j \\geq 0, s_j \\geq 0, j = 1,2,3,4 $$"
   ]
  },
  {
   "cell_type": "markdown",
   "metadata": {},
   "source": [
    "### 2. Import Packages"
   ]
  },
  {
   "cell_type": "code",
   "execution_count": 1,
   "metadata": {},
   "outputs": [],
   "source": [
    "from __future__ import print_function\n",
    "import sys\n",
    "import cplex\n",
    "from cplex.exceptions import CplexError"
   ]
  },
  {
   "cell_type": "markdown",
   "metadata": {},
   "source": [
    "### 3. Data"
   ]
  },
  {
   "cell_type": "code",
   "execution_count": 2,
   "metadata": {},
   "outputs": [],
   "source": [
    "import numpy as np\n",
    "\n",
    "A = [[0.3,  0.3,  0.25, 0.15, 0.0, 0.0, 0.0, 0.0],\n",
    "     [0.25, 0.35, 0.3,  0.1,  0.0, 0.0, 0.0, 0.0],\n",
    "     [0.45, 0.5,  0.4,  0.22, 0.0, 0.0, 0.0, 0.0],\n",
    "     [0.15, 0.15, 0.1,  0.05, 0.0, 0.0, 0.0, 0.0],\n",
    "     [1.0,  0.0,  0.0,  0.0,  1.0, 0.0, 0.0, 0.0],\n",
    "     [0.0,  1.0,  0.0,  0.0,  0.0, 1.0, 0.0, 0.0],\n",
    "     [0.0,  0.0,  1.0,  0.0,  0.0, 0.0, 1.0, 0.0],\n",
    "     [0.0,  0.0,  0.0,  1.0,  0.0, 0.0, 0.0, 1.0]]\n",
    "b = [1000.0, 1000.0, 1000.0, 1000.0, 800.0, 750.0, 600.0, 500.0] \n",
    "c = [30.0,   40.0,   20.0,   10.0,   -15.0, -20.0, -10.0, -8.0]\n",
    "u = [cplex.infinity] * len(A[0])\n",
    "l = [0.0] * len(A[0])\n",
    "# Optimization objective sense can be 'min' or 'max'\n",
    "optSense = 'max'  \n",
    "varType = \"C\" * len(A[0])\n",
    "# for senses, G, L, E, R means greater-than, less-than, equality, ranged constraints\n",
    "senses = [\"LLLLEEEE\"]\n",
    "saveOpt = False\n",
    "saveFile = 'Production Planning'\n",
    "quietOpt = True"
   ]
  },
  {
   "cell_type": "markdown",
   "metadata": {},
   "source": [
    "### 4. Code"
   ]
  },
  {
   "cell_type": "code",
   "execution_count": 3,
   "metadata": {},
   "outputs": [],
   "source": [
    "def mip(A, b, c, u, l, varType, optSense, senses, saveOpt, saveFile, quietOpt):\n",
    "\n",
    "    noRow, noCol = len(A), len(A[0])\n",
    "    \n",
    "    my_prob = cplex.Cplex()\n",
    "    if optSense == 'min':\n",
    "        my_prob.objective.set_sense(my_prob.objective.sense.minimize)\n",
    "    elif optSense == 'max':\n",
    "        my_prob.objective.set_sense(my_prob.objective.sense.maximize)\n",
    "\n",
    "    my_colnames = [\"x\"+str(i) for i in range(noCol)]\n",
    "    my_prob.variables.add(obj=c, ub=u, lb=l, types=varType, names=my_colnames)\n",
    "    \n",
    "    A = [[[i for i in range(noCol)], A[j]] for j in range(noRow)]\n",
    "    my_prob.linear_constraints.add(lin_expr=A, senses=senses, rhs=b)\n",
    "    \n",
    "    if quietOpt:\n",
    "        my_prob.set_log_stream(None)\n",
    "        my_prob.set_error_stream(None)\n",
    "        my_prob.set_warning_stream(None)\n",
    "        my_prob.set_results_stream(None)\n",
    "    \n",
    "    try:\n",
    "        my_prob.solve()\n",
    "        if saveOpt:\n",
    "            my_prob.write( saveFile + \".lp\")\n",
    "            print(\"LP saved as \" + saveFile + \".lp\")\n",
    "\n",
    "        x = my_prob.solution.get_values()\n",
    "        obj = my_prob.solution.get_objective_value()\n",
    "        return x, obj\n",
    "    except CplexError as exc:\n",
    "        print(exc)\n",
    "        return [], -1"
   ]
  },
  {
   "cell_type": "code",
   "execution_count": 4,
   "metadata": {},
   "outputs": [
    {
     "name": "stdout",
     "output_type": "stream",
     "text": [
      "[800.0, 750.0, 387.5, 500.0, 0.0, 0.0, 212.5, 0.0]\n",
      "64625.0\n",
      "CPU times: user 17.3 ms, sys: 5.09 ms, total: 22.4 ms\n",
      "Wall time: 20.3 ms\n"
     ]
    }
   ],
   "source": [
    "%%time\n",
    "\n",
    "x, obj = mip(A, b, c, u, l, varType, optSense, senses, saveOpt, saveFile, quietOpt)\n",
    "print(x)\n",
    "print(obj)"
   ]
  },
  {
   "cell_type": "markdown",
   "metadata": {},
   "source": [
    "## ii) Multi-Period Production Model <a class=\"anchor\" id=\"multi\"></a> \n",
    "[Click here to TOC](#toc)\n",
    "\n",
    "This is example 2.3-5 from [Operations Research, 8th Edition by Taha](https://www.amazon.com/Operations-Research-Introduction-Hamdy-Taha/dp/0131889230/ref=sr_1_1?ie=UTF8&qid=1537392218&sr=8-1&keywords=operations+research+taha+8).\n",
    "\n",
    "Acme manufacturing company has contracted to deliver home windows over the next $6$ months. The demands for each month are $100,250,190,140,220$, and $110$ units, respectively. Production cost per window varies from month to month depending on the cost of labour, material, and utilities. Acme estimates the production cost per window over the next 6 months to be $\\$50,\\$45,\\$55,\\$48,\\$52$, and $\\$50$, respectively. To take advantage of the fluctuations in manufacturing cost, Acme may elect to produce more than is needed in a given month and hold the excess units for delivery in later months. This, however, will incur storage costs at the rate of £8 per window per month assessed on end-of-month inventory.\n",
    "\n",
    "<img src=\"./multi_period.png\" style=\"width: 600px\"><br/>\n",
    "\n",
    "Develop a linear program to determine the optimum production schedule.\n",
    "\n",
    "### 1. Model\n",
    "\n",
    "The variables of the problem include the monthly production amount and the end-of-month inventory. As there are six periods, therefore we can have:<br/>\n",
    "\n",
    "$$ x_i = \\text{Number of units produced in month} \\enspace i $$\n",
    "$$ \\\\ I_i = \\text{Inventory units left at the end of month} \\enspace i $$ <br/>\n",
    "Moreover,\n",
    "- Assume we don't have any starting inventory. But let's let that be $I_0 = 0$. \n",
    "- Production cost is $50 x_1 + 45 x_2 + 55 x_3 + 48 x_4 + 52 x_5 + 50 x_6$\n",
    "- Inventory cost is $100 I_1 + 250 I_2 + 190 I_3 + 140 I_4 + 220 I_5 + 110 I_6$\n",
    "\n",
    "So the whole formulation looks like:\n",
    "\n",
    "$$ min_{x_i, I_i} \\enspace 50 x_1 + 45 x_2 + 55 x_3 + 48 x_4 + 52 x_5 + 50 x_6 +8 I_1 + 8 I_2 + 8 I_3 + 8 I_4 + 8 I_5 + 8 I_6 $$\n",
    "$$ I_0 + x_1 + I_1 = 100 \\enspace \\text{(1)} \\\\  $$\n",
    "$$ I_1 + x_2 + I_2 = 250 \\enspace \\text{(2)} \\\\  $$\n",
    "$$ I_2 + x_3 + I_3 = 190 \\enspace \\text{(3)} \\\\  $$\n",
    "$$ I_3 + x_4 + I_4 = 140 \\enspace \\text{(4)} \\\\  $$\n",
    "$$ I_4 + x_5 + I_5 = 220 \\enspace \\text{(5)} \\\\  $$\n",
    "$$ I_5 + x_6 + I_6 = 110 \\enspace \\text{(6)} \\\\  $$\n",
    "$$ x_i, I_i \\geq 0, i = 1,2,3,4,5,6\\\\  $$"
   ]
  },
  {
   "cell_type": "markdown",
   "metadata": {},
   "source": [
    "### 2. Data"
   ]
  },
  {
   "cell_type": "code",
   "execution_count": 5,
   "metadata": {},
   "outputs": [],
   "source": [
    "A = [[1.0, 0.0, 0.0, 0.0, 0.0, 0.0, -1.0,  0.0,  0.0,  0.0,  0.0,  0.0],\n",
    "     [0.0, 1.0, 0.0, 0.0, 0.0, 0.0,  1.0, -1.0,  0.0,  0.0,  0.0,  0.0],\n",
    "     [0.0, 0.0, 1.0, 0.0, 0.0, 0.0,  0.0,  1.0, -1.0,  0.0,  0.0,  0.0],\n",
    "     [0.0, 0.0, 0.0, 1.0, 0.0, 0.0,  0.0,  0.0,  1.0, -1.0,  0.0,  0.0],\n",
    "     [0.0, 0.0, 0.0, 0.0, 1.0, 0.0,  0.0,  0.0,  0.0,  1.0, -1.0,  0.0],\n",
    "     [0.0, 0.0, 0.0, 0.0, 0.0, 1.0,  0.0,  0.0,  0.0,  0.0,  1.0, -1.0]]\n",
    "b = [100.0, 250.0, 190.0, 140.0, 220.0, 110.0] \n",
    "c = [50.0, 45.0, 55.0, 48.0, 52.0, 50.0] + [8.0] * 6\n",
    "u = [cplex.infinity] * len(A[0])\n",
    "l = [0.0] * len(A[0])\n",
    "# Optimization objective sense can be 'min' or 'max'\n",
    "optSense = 'min'  \n",
    "varType = \"C\" * len(A[0])\n",
    "# for senses, G, L, E, R means greater-than, less-than, equality, ranged constraints\n",
    "senses = [\"E\"] * len(A)\n",
    "saveOpt = False\n",
    "saveFile = 'Production Planning'\n",
    "quietOpt = True"
   ]
  },
  {
   "cell_type": "markdown",
   "metadata": {},
   "source": [
    "### 3. Code"
   ]
  },
  {
   "cell_type": "code",
   "execution_count": 6,
   "metadata": {
    "scrolled": true
   },
   "outputs": [
    {
     "name": "stdout",
     "output_type": "stream",
     "text": [
      "[100.0, 440.0, 0.0, 140.0, 220.0, 110.0, 0.0, 190.0, 0.0, 0.0, 0.0, 0.0]\n",
      "49980.0\n",
      "CPU times: user 11 ms, sys: 0 ns, total: 11 ms\n",
      "Wall time: 10.1 ms\n"
     ]
    }
   ],
   "source": [
    "%%time\n",
    "\n",
    "x, obj = mip(A, b, c, u, l, varType, optSense, senses, saveOpt, saveFile, quietOpt)\n",
    "print(x)\n",
    "print(obj)"
   ]
  },
  {
   "cell_type": "markdown",
   "metadata": {},
   "source": [
    "Changing the equality sign to inequality sign in constraints (1)-(6) leads us to get the same answer but with faster speed. "
   ]
  },
  {
   "cell_type": "code",
   "execution_count": 7,
   "metadata": {
    "scrolled": true
   },
   "outputs": [
    {
     "name": "stdout",
     "output_type": "stream",
     "text": [
      "[100.0, 440.0, 0.0, 140.0, 220.0, 110.0, 0.0, 190.0, 0.0, 0.0, 0.0, 0.0]\n",
      "49980.0\n",
      "CPU times: user 15 ms, sys: 7.15 ms, total: 22.1 ms\n",
      "Wall time: 19.1 ms\n"
     ]
    }
   ],
   "source": [
    "%%time\n",
    "senses = [\"G\"] * len(A)\n",
    "x, obj = mip(A, b, c, u, l, varType, optSense, senses, saveOpt, saveFile, quietOpt)\n",
    "print(x)\n",
    "print(obj)"
   ]
  },
  {
   "cell_type": "markdown",
   "metadata": {},
   "source": [
    "## iii) Multi-Period Production Smoothing Model <a class=\"anchor\" id=\"multi_smooth\"></a> \n",
    "[Click here to TOC](#toc)\n",
    "\n",
    "This is example 2.3-6 from [Operations Research, 8th Edition by Taha](https://www.amazon.com/Operations-Research-Introduction-Hamdy-Taha/dp/0131889230/ref=sr_1_1?ie=UTF8&qid=1537392218&sr=8-1&keywords=operations+research+taha+8).\n",
    "\n",
    "The smoothing component of the model originates from the flexibility of employing temps at the start of each time period. \n",
    "\n",
    "A company will manufacture a product for the next four months: March, April, May, and June. The demands for each month are $520, 720, 520$, and $620$ units, respectively. The company has a steady workforce of $10$ employees but can meet fluctuating production needs by hiring and firing temporary workers, if necessary. The extra costs of hiring and firing in any month are $\\$200$ and $\\$400$ per worker, respectively. A permanent worker can produce $12$ units per month, and a temporary worker, lacking comparable experience, only produce $10$ units per month. The company can produce more than needed in any month and carry the surplus over to a succeeding month at a holding cost of $\\$50$ per unit per month. \n",
    "\n",
    "Develop an optimal hiring/firing policy for the company over the four-month planning horizon.\n",
    "\n",
    "### 1. Model\n",
    "\n",
    "There are four stages as specified in the specification. Let's define the variables as:\n",
    "- $x_i$ is the net number of temps at the start of month $i$ after any hiring or firing\n",
    "- $S_i^+$ is the number of temps hired at the start of month $i$\n",
    "- $S_i^-$ is the number of temps fired at the start of month $i$\n",
    "- $I_i$ is the units of ending inventory for month $i$ \n",
    "\n",
    "Therefore,\n",
    "- Hiring cost = $200 * (S_1^+ + S_2^+ + S_3^+ + S_4^+ )$\n",
    "- Firing cost = $400 * (S_1^- + S_2^- + S_3^- + S_4^- )$\n",
    "- Inventory cost = $50 * (I_1 + I_2 + I_3 + I_4)$\n",
    "\n",
    "So the whole formulation looks like:\n",
    "$$ \\text{min}_{x_i, S_i^+, S_i^-, I_i} \\enspace \\sum_{i=1}^4 [200 S_i^+ + 400S_i^- + 50 I_i] $$\n",
    "$$ \\\\ 10 x_1 - I_1 = 520 - 120 = 400  \\enspace \\text{(7)}$$\n",
    "$$ \\\\ I_1 + 10 x_2 - I_2 = 720 - 120 = 600  \\enspace \\text{(8)}$$\n",
    "$$ \\\\ I_2 + 10 x_3 - I_3 = 520 - 120 = 400  \\enspace \\text{(9)}$$\n",
    "$$ \\\\ I_3 + 10 x_4 - I_4 = 620 - 120 = 500  \\enspace \\text{(10)}$$\n",
    "$$ \\\\ x_1 = S_1^+ - S_1^-        \\enspace \\Leftrightarrow \\enspace \\enspace   x_1       - S_1^+ + S_1^ = 0  \\enspace \\text{(11)} $$\n",
    "$$ \\\\ x_2 = x_1 + S_2^+ - S_2^-  \\enspace \\Leftrightarrow \\enspace \\enspace - x_1 + x_2 - S_2^+ + S_2^ = 0  \\enspace \\text{(12)} $$\n",
    "$$ \\\\ x_3 = x_2 + S_3^+ - S_3^-  \\enspace \\Leftrightarrow \\enspace \\enspace - x_2 + x_3 - S_3^+ + S_3^ = 0  \\enspace \\text{(13)} $$\n",
    "$$ \\\\ x_4 = x_3 + S_4^+ - S_4^-  \\enspace \\Leftrightarrow \\enspace \\enspace - x_3 + x_4 - S_4^+ + S_4^ = 0  \\enspace \\text{(14)} $$\n",
    "$$ \\\\ x_i, S_i^+, S_i^-, I_i \\geq 0, i=1,2,3,4$$\n",
    "\n",
    "### 2. Data"
   ]
  },
  {
   "cell_type": "code",
   "execution_count": 8,
   "metadata": {},
   "outputs": [],
   "source": [
    "A = [[10.0,  0.0,  0.0,  0.0] + [0.0] * 4                + [0.0] * 4            + [-1.0,  0.0,  0.0,  0.0],\n",
    "     [ 0.0, 10.0,  0.0,  0.0] + [0.0] * 4                + [0.0] * 4            + [ 1.0, -1.0,  0.0,  0.0],\n",
    "     [ 0.0,  0.0, 10.0,  0.0] + [0.0] * 4                + [0.0] * 4            + [ 0.0,  1.0, -1.0,  0.0],\n",
    "     [ 0.0,  0.0,  0.0, 10.0] + [0.0] * 4                + [0.0] * 4            + [ 0.0,  0.0,  1.0, -1.0],\n",
    "     \n",
    "     [ 1.0,  0.0,  0.0,  0.0] + [-1.0,  0.0,  0.0,  0.0] + [1.0, 0.0, 0.0, 0.0] + [0.0] * 4,\n",
    "     [-1.0,  1.0,  0.0,  0.0] + [ 0.0, -1.0,  0.0,  0.0] + [0.0, 1.0, 0.0, 0.0] + [0.0] * 4,\n",
    "     [ 0.0, -1.0,  1.0,  0.0] + [ 0.0,  0.0, -1.0,  0.0] + [0.0, 0.0, 1.0, 0.0] + [0.0] * 4,\n",
    "     [ 0.0,  0.0, -1.0,  1.0] + [ 0.0,  0.0,  0.0, -1.0] + [0.0, 0.0, 0.0, 1.0] + [0.0] * 4]\n",
    "\n",
    "b = [400.0, 600.0, 400.0, 500.0] + [0.0] * 4\n",
    "c = [0.0] * 4 + [200.0] * 4 + [400.0] * 4 + [50.0] * 4\n",
    "u = [cplex.infinity] * len(A[0])\n",
    "l = [0.0] * len(A[0])\n",
    "# Optimization objective sense can be 'min' or 'max'\n",
    "optSense = 'min'  \n",
    "varType = \"C\" * len(A[0])\n",
    "# for senses, G, L, E, R means greater-than, less-than, equality, ranged constraints\n",
    "senses = [\"E\"] * 4 + [\"E\"] * 4\n",
    "saveOpt = False\n",
    "saveFile = 'Production Planning'\n",
    "quietOpt = True"
   ]
  },
  {
   "cell_type": "code",
   "execution_count": 9,
   "metadata": {
    "scrolled": true
   },
   "outputs": [
    {
     "name": "stdout",
     "output_type": "stream",
     "text": [
      "[50.0, 50.0, 45.0, 45.0, 50.0, 0.0, 0.0, 0.0, 0.0, 0.0, 5.0, 0.0, 100.0, 0.0, 50.0, 0.0]\n",
      "19500.0\n",
      "CPU times: user 2.85 ms, sys: 3.1 ms, total: 5.95 ms\n",
      "Wall time: 5.38 ms\n"
     ]
    }
   ],
   "source": [
    "%%time\n",
    "\n",
    "x, obj = mip(A, b, c, u, l, varType, optSense, senses, saveOpt, saveFile, quietOpt)\n",
    "print(x)\n",
    "print(obj)"
   ]
  },
  {
   "cell_type": "markdown",
   "metadata": {},
   "source": [
    "In the course of debugging, I found that inputting the A matrix is very prone to typos and mistakes. For example, let's say I accidentially typed two of the dots as commas as follows:\n",
    "\n",
    "<img src=\"./mistake.png\" style=\"width: 600px\"><br/>"
   ]
  },
  {
   "cell_type": "code",
   "execution_count": 10,
   "metadata": {},
   "outputs": [],
   "source": [
    "A = [[10.0,  0.0,  0.0,  0.0] + [0.0] * 4                + [0.0] * 4            + [-1.0,  0.0,  0.0,  0.0],\n",
    "     [ 0.0, 10.0,  0.0,  0.0] + [0.0] * 4                + [0.0] * 4            + [ 1.0, -1.0,  0.0,  0.0],\n",
    "     [ 0.0,  0.0, 10.0,  0.0] + [0.0] * 4                + [0.0] * 4            + [ 0.0,  1.0, -1.0,  0.0],\n",
    "     [ 0.0,  0.0,  0.0, 10.0] + [0.0] * 4                + [0.0] * 4            + [ 0.0,  0.0,  1.0, -1.0],\n",
    "     \n",
    "     [ 1.0,  0.0,  0,0,  0.0] + [-1.0,  0.0,  0.0,  0.0] + [1.0, 0.0, 0.0, 0.0] + [0.0] * 4,\n",
    "     [-1.0,  1.0,  0,0,  0.0] + [ 0.0, -1.0,  0.0,  0.0] + [0.0, 1.0, 0.0, 0.0] + [0.0] * 4,\n",
    "     [ 0.0, -1.0,  1.0,  0.0] + [ 0.0,  0.0, -1.0,  0.0] + [0.0, 0.0, 1.0, 0.0] + [0.0] * 4,\n",
    "     [ 0.0,  0.0, -1.0,  1.0] + [ 0.0,  0.0,  0.0, -1.0] + [0.0, 0.0, 0.0, 1.0] + [0.0] * 4]"
   ]
  },
  {
   "cell_type": "markdown",
   "metadata": {},
   "source": [
    "We can run the LP but the result is not what we want. Indeed it took me an entire afternoon to debug."
   ]
  },
  {
   "cell_type": "code",
   "execution_count": 11,
   "metadata": {},
   "outputs": [
    {
     "name": "stdout",
     "output_type": "stream",
     "text": [
      "[51.666666666666664, 48.333333333333336, 45.0, 45.0, 0.0, 51.666666666666664, 0.0, 0.0, 0.0, 0.0, 3.333333333333333, 0.0, 116.66666666666663, 0.0, 50.0, 0.0]\n",
      "20000.0\n",
      "CPU times: user 18.3 ms, sys: 2.6 ms, total: 20.9 ms\n",
      "Wall time: 18.8 ms\n"
     ]
    }
   ],
   "source": [
    "%%time\n",
    "senses = [\"E\"] * 4 + [\"E\"] * 4\n",
    "x, obj = mip(A, b, c, u, l, varType, optSense, senses, saveOpt, saveFile, quietOpt)\n",
    "print(x)\n",
    "print(obj)"
   ]
  },
  {
   "cell_type": "markdown",
   "metadata": {},
   "source": [
    "So let's change the way we input our `A` matrix (i.e. specifying the position and value of an element explicitly)."
   ]
  },
  {
   "cell_type": "code",
   "execution_count": 12,
   "metadata": {},
   "outputs": [],
   "source": [
    "def mip_v2(A, b, c, u, l, varType, optSense, senses, saveOpt, colNames, saveFile, quietOpt):\n",
    "\n",
    "    noRow, noCol = len(A), len(A[0])\n",
    "    \n",
    "    my_prob = cplex.Cplex()\n",
    "    if optSense == 'min':\n",
    "        my_prob.objective.set_sense(my_prob.objective.sense.minimize)\n",
    "    elif optSense == 'max':\n",
    "        my_prob.objective.set_sense(my_prob.objective.sense.maximize)\n",
    "\n",
    "    my_prob.variables.add(obj=c, ub=u, lb=l, types=varType, names=colNames)\n",
    "    \n",
    "    my_prob.linear_constraints.add(lin_expr=A, senses=senses, rhs=b)\n",
    "    \n",
    "    if quietOpt:\n",
    "        my_prob.set_log_stream(None)\n",
    "        my_prob.set_error_stream(None)\n",
    "        my_prob.set_warning_stream(None)\n",
    "        my_prob.set_results_stream(None)\n",
    "    \n",
    "    try:\n",
    "        my_prob.solve()\n",
    "        if saveOpt:\n",
    "            my_prob.write( saveFile + \".lp\")\n",
    "            print(\"LP saved as \" + saveFile + \".lp\")\n",
    "\n",
    "        x = my_prob.solution.get_values()\n",
    "        obj = my_prob.solution.get_objective_value()\n",
    "        return x, obj\n",
    "    except CplexError as exc:\n",
    "        print(exc)\n",
    "        return [], -1"
   ]
  },
  {
   "cell_type": "code",
   "execution_count": 13,
   "metadata": {},
   "outputs": [],
   "source": [
    "colNames = [\"x_\" + str(i) for i in range(1,5)] \\\n",
    "         + [\"S_plus_\" + str(i) for i in range(1,5)] \\\n",
    "         + [\"S_minus_\" + str(i) for i in range(1,5)] \\\n",
    "         + [\"I_\" + str(i) for i in range(1,5)]\n",
    "A = [\n",
    "     [[\"x_1\", \"I_1\"], [10, -1]],\n",
    "     [[\"x_2\", \"I_1\", \"I_2\"], [10, 1, -1]],\n",
    "     [[\"x_3\", \"I_2\", \"I_3\"], [10, 1, -1]],\n",
    "     [[\"x_4\", \"I_3\", \"I_4\"], [10, 1, -1]],\n",
    "     [[\"x_1\", \"S_plus_1\", \"S_minus_1\"], [1, -1, 1]],\n",
    "     [[\"x_1\", \"x_2\", \"S_plus_2\", \"S_minus_1\"], [-1, 1, -1, 1]],\n",
    "     [[\"x_2\", \"x_3\", \"S_plus_3\", \"S_minus_2\"], [-1, 1, -1, 1]],\n",
    "     [[\"x_3\", \"x_4\", \"S_plus_4\", \"S_minus_3\"], [-1, 1, -1, 1]]\n",
    "    ]"
   ]
  },
  {
   "cell_type": "markdown",
   "metadata": {},
   "source": [
    "In the end, we got the same result as before."
   ]
  },
  {
   "cell_type": "code",
   "execution_count": 14,
   "metadata": {},
   "outputs": [
    {
     "name": "stdout",
     "output_type": "stream",
     "text": [
      "[50.0, 50.0, 45.0, 45.0, 50.0, 0.0, 0.0, 0.0, 0.0, 5.0, 0.0, 0.0, 100.0, 0.0, 50.0, 0.0]\n",
      "19500.0\n",
      "CPU times: user 13.4 ms, sys: 2.03 ms, total: 15.4 ms\n",
      "Wall time: 14.2 ms\n"
     ]
    }
   ],
   "source": [
    "%%time\n",
    "x, obj = mip_v2(A, b, c, u, l, varType, optSense, senses, saveOpt, colNames, saveFile, quietOpt)\n",
    "print(x)\n",
    "print(obj)"
   ]
  },
  {
   "cell_type": "markdown",
   "metadata": {},
   "source": [
    "Finally, my two cents on debugging a LP:\n",
    "- Always try your LP with a small dataset\n",
    "- Save your LP as a file and see if the printed formulation is what you want\n",
    "- Try to implement your LP with different solvers (e.g. Cplex, Gurobi, TORA, Lingo) and compare their result"
   ]
  }
 ],
 "metadata": {
  "kernelspec": {
   "display_name": "Python 3",
   "language": "python",
   "name": "python3"
  },
  "language_info": {
   "codemirror_mode": {
    "name": "ipython",
    "version": 3
   },
   "file_extension": ".py",
   "mimetype": "text/x-python",
   "name": "python",
   "nbconvert_exporter": "python",
   "pygments_lexer": "ipython3",
   "version": "3.5.6"
  },
  "varInspector": {
   "cols": {
    "lenName": 16,
    "lenType": 16,
    "lenVar": 40
   },
   "kernels_config": {
    "python": {
     "delete_cmd_postfix": "",
     "delete_cmd_prefix": "del ",
     "library": "var_list.py",
     "varRefreshCmd": "print(var_dic_list())"
    },
    "r": {
     "delete_cmd_postfix": ") ",
     "delete_cmd_prefix": "rm(",
     "library": "var_list.r",
     "varRefreshCmd": "cat(var_dic_list()) "
    }
   },
   "types_to_exclude": [
    "module",
    "function",
    "builtin_function_or_method",
    "instance",
    "_Feature"
   ],
   "window_display": false
  }
 },
 "nbformat": 4,
 "nbformat_minor": 2
}
