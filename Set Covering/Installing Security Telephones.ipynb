{
 "cells": [
  {
   "cell_type": "markdown",
   "metadata": {},
   "source": [
    "# Installing Security Telephones\n",
    "\n",
    "This is Example 9.1-2 from [Operations Research, 8th Edition by Taha](https://www.amazon.com/Operations-Research-Introduction-Hamdy-Taha/dp/0131889230/ref=sr_1_1?ie=UTF8&qid=1537392218&sr=8-1&keywords=operations+research+taha+8).\n",
    "\n",
    "To promote on-campus safety, the U of A Security Department is in the process of installing emergency telephones at selected locations. The department wants to install the minimum number of telephones, provided that each of the campus main streets is served by at least one telephone. The following pictures maps the principal streets (A to K) on campus.\n",
    "\n",
    "<img src=\"./installing_security_telephones.PNG\" style=\"width: 600px\"><br/>\n",
    "\n",
    "This problem is a set-covering problem because we want to determine the minimum number of installations that need to be covered for each facility.\n",
    "\n",
    "It is logical to place the telephones at street intersections so that each telephone will serve at least two streets. Figure 9.1 shows that the layout of the streets requires a maximum of eight telephone locations.\n",
    "\n",
    "The optimum solution of the problem requires installing four telephones at intersections 1,2,5, and 7.\n",
    "\n",
    "## Formulation\n",
    "\n",
    "$$ min \\enspace z = x_1 + x_2 + x_3 + x_4 + x_5 + x_6 + x_7 + x_8 $$ \n",
    "$$ \\\\ x_1 + x_2 \\geq 1 $$ \n",
    "$$ \\\\ x_2 + x_3 \\geq 1 $$\n",
    "$$ \\\\ x_4 + x_5 \\geq 1 $$ \n",
    "$$ \\\\ x_7 + x_8 \\geq 1 $$ \n",
    "$$ \\\\ x_6 + x_7 \\geq 1 $$ \n",
    "$$ \\\\ x_2 + x_6 \\geq 1 $$ \n",
    "$$ \\\\ x_1 + x_6 \\geq 1 $$ \n",
    "$$ \\\\ x_4 + x_7 \\geq 1 $$ \n",
    "$$ \\\\ x_2 + x_4 \\geq 1 $$ \n",
    "$$ \\\\ x_5 + x_8 \\geq 1 $$ \n",
    "$$ \\\\ x_3 + x_5 \\geq 1 $$ \n",
    "$$ \\\\ x_j = (0, 1), j = 1, 2, \\dots, 8 $$ <br/> "
   ]
  },
  {
   "cell_type": "markdown",
   "metadata": {},
   "source": [
    "## 1. Import Packages"
   ]
  },
  {
   "cell_type": "code",
   "execution_count": 1,
   "metadata": {},
   "outputs": [],
   "source": [
    "from __future__ import print_function\n",
    "import sys\n",
    "import cplex\n",
    "from cplex.exceptions import CplexError"
   ]
  },
  {
   "cell_type": "markdown",
   "metadata": {},
   "source": [
    "## 2. Data"
   ]
  },
  {
   "cell_type": "code",
   "execution_count": 2,
   "metadata": {},
   "outputs": [],
   "source": [
    "import numpy as np\n",
    "\n",
    "A = [[1.0, 1.0, 0.0, 0.0, 0.0, 0.0, 0.0, 0.0],\n",
    "     [0.0, 1.0, 1.0, 0.0, 0.0, 0.0, 0.0, 0.0],\n",
    "     [0.0, 0.0, 0.0, 1.0, 1.0, 0.0, 0.0, 0.0],\n",
    "     [0.0, 0.0, 0.0, 0.0, 0.0, 0.0, 1.0, 1.0],\n",
    "     [0.0, 0.0, 0.0, 0.0, 0.0, 1.0, 1.0, 0.0],\n",
    "     [0.0, 1.0, 0.0, 0.0, 0.0, 1.0, 0.0, 0.0],\n",
    "     [1.0, 0.0, 0.0, 0.0, 0.0, 1.0, 0.0, 0.0],\n",
    "     [0.0, 0.0, 0.0, 1.0, 0.0, 0.0, 1.0, 0.0],\n",
    "     [0.0, 1.0, 0.0, 1.0, 0.0, 0.0, 0.0, 0.0],\n",
    "     [0.0, 0.0, 0.0, 0.0, 1.0, 0.0, 0.0, 1.0],\n",
    "     [0.0, 0.0, 1.0, 0.0, 1.0, 0.0, 0.0, 0.0]]\n",
    "b = [1.0] * len(A)\n",
    "c = [1.0] * len(A[0])\n",
    "u = [cplex.infinity] * len(A[0])\n",
    "l = [0.0] * len(A[0])\n",
    "# Optimization objective sense can be 'min' or 'max'\n",
    "optSense = 'min'  \n",
    "varType = \"I\" * len(A[0])\n",
    "saveOpt = False\n",
    "quietOpt = True"
   ]
  },
  {
   "cell_type": "markdown",
   "metadata": {},
   "source": [
    "## 3. Code"
   ]
  },
  {
   "cell_type": "code",
   "execution_count": 3,
   "metadata": {},
   "outputs": [],
   "source": [
    "def mip(A, b, c, u, l, varType, optSense, saveOpt, quietOpt):\n",
    "\n",
    "    noRow, noCol = len(A), len(A[0])\n",
    "    \n",
    "    my_prob = cplex.Cplex()\n",
    "    if optSense == 'min':\n",
    "        my_prob.objective.set_sense(my_prob.objective.sense.minimize)\n",
    "    elif optSense == 'max':\n",
    "        my_prob.objective.set_sense(my_prob.objective.sense.maximize)\n",
    "\n",
    "    my_colnames = [\"x\"+str(i) for i in range(noCol)]\n",
    "    # for senses, G, L, E, R means greater-than, less-than, equality, ranged constraints\n",
    "    my_prob.variables.add(obj=c, ub=u, lb=l, types=varType, names=my_colnames)\n",
    "    \n",
    "    A = [[[i for i in range(noCol)], A[j]] for j in range(noRow)]\n",
    "    my_prob.linear_constraints.add(lin_expr=A, senses=[\"G\" * noRow], rhs=b)\n",
    "    \n",
    "    if quietOpt:\n",
    "        my_prob.set_log_stream(None)\n",
    "        my_prob.set_error_stream(None)\n",
    "        my_prob.set_warning_stream(None)\n",
    "        my_prob.set_results_stream(None)\n",
    "    \n",
    "    try:\n",
    "        my_prob.solve()\n",
    "        if saveOpt:\n",
    "            my_prob.write(\"Installing Security Telephones.lp\")\n",
    "            print('LP saved as Installing Security Telephones.lp')\n",
    "\n",
    "        x = my_prob.solution.get_values()\n",
    "        obj = my_prob.solution.get_objective_value()\n",
    "        return x, obj\n",
    "    except CplexError as exc:\n",
    "        print(exc)\n",
    "        return [], -1"
   ]
  },
  {
   "cell_type": "code",
   "execution_count": 4,
   "metadata": {
    "scrolled": true
   },
   "outputs": [
    {
     "name": "stdout",
     "output_type": "stream",
     "text": [
      "[1.0, 1.0, 0.0, 0.0, 1.0, 0.0, 1.0, 0.0]\n",
      "4.0\n",
      "CPU times: user 5.83 ms, sys: 5.47 ms, total: 11.3 ms\n",
      "Wall time: 9.15 ms\n"
     ]
    }
   ],
   "source": [
    "%%time\n",
    "\n",
    "x, obj = mip(A, b, c, u, l, varType, optSense, saveOpt, quietOpt)\n",
    "print(x)\n",
    "print(obj)"
   ]
  },
  {
   "cell_type": "markdown",
   "metadata": {},
   "source": [
    "What if we change the variable type to continuous type 'C'?"
   ]
  },
  {
   "cell_type": "code",
   "execution_count": 5,
   "metadata": {},
   "outputs": [
    {
     "name": "stdout",
     "output_type": "stream",
     "text": [
      "[1.0, 1.0, 0.0, 0.0, 1.0, 0.0, 1.0, 0.0]\n",
      "4.0\n",
      "CPU times: user 9.32 ms, sys: 1.84 ms, total: 11.2 ms\n",
      "Wall time: 10.2 ms\n"
     ]
    }
   ],
   "source": [
    "%%time \n",
    "\n",
    "varType = 'C' * len(A[0])\n",
    "x, obj = mip(A, b, c, u, l, varType, optSense, saveOpt, quietOpt)\n",
    "print(x)\n",
    "print(obj)"
   ]
  },
  {
   "cell_type": "markdown",
   "metadata": {},
   "source": [
    "Since all the input this time is integer, therefore we get integer output as well. If we change just one number for the input to a decimal number, we can't get our desired result."
   ]
  },
  {
   "cell_type": "code",
   "execution_count": 6,
   "metadata": {},
   "outputs": [
    {
     "name": "stdout",
     "output_type": "stream",
     "text": [
      "[0.5, 0.5, 0.5, 0.5, 0.5, 0.5, 0.5, 0.5]\n",
      "4.05\n",
      "CPU times: user 9.73 ms, sys: 2.2 ms, total: 11.9 ms\n",
      "Wall time: 10.5 ms\n"
     ]
    }
   ],
   "source": [
    "%%time \n",
    "\n",
    "c[1] = 1.1\n",
    "x, obj = mip(A, b, c, u, l, varType, optSense, saveOpt, quietOpt)\n",
    "print(x)\n",
    "print(obj)"
   ]
  }
 ],
 "metadata": {
  "kernelspec": {
   "display_name": "Python 3",
   "language": "python",
   "name": "python3"
  },
  "language_info": {
   "codemirror_mode": {
    "name": "ipython",
    "version": 3
   },
   "file_extension": ".py",
   "mimetype": "text/x-python",
   "name": "python",
   "nbconvert_exporter": "python",
   "pygments_lexer": "ipython3",
   "version": "3.5.6"
  },
  "varInspector": {
   "cols": {
    "lenName": 16,
    "lenType": 16,
    "lenVar": 40
   },
   "kernels_config": {
    "python": {
     "delete_cmd_postfix": "",
     "delete_cmd_prefix": "del ",
     "library": "var_list.py",
     "varRefreshCmd": "print(var_dic_list())"
    },
    "r": {
     "delete_cmd_postfix": ") ",
     "delete_cmd_prefix": "rm(",
     "library": "var_list.r",
     "varRefreshCmd": "cat(var_dic_list()) "
    }
   },
   "types_to_exclude": [
    "module",
    "function",
    "builtin_function_or_method",
    "instance",
    "_Feature"
   ],
   "window_display": false
  }
 },
 "nbformat": 4,
 "nbformat_minor": 2
}
