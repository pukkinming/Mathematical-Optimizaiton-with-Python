{
 "cells": [
  {
   "cell_type": "markdown",
   "metadata": {},
   "source": [
    "# Mixed Integer Programming with Python and Cplex\n",
    "\n",
    "This is a simple example of using Python and Cplex to solve a mixed integer programming.\n",
    "\n",
    "According to [Wikipedia](https://en.wikipedia.org/wiki/Integer_programming), an integer programming problem is a mathematical optimization or feasibility program in which some or all of the variables are restricted to be integers. In many settings the term refers to integer linear programming (ILP), in which the objective function and the constraints (other than the integer constraints) are linear. \n",
    "\n",
    "If all the variables are integer, then the formulation is known as pure integer programming (PIP). If some (but not all) variables are integer, the formulation is known as mixed integer programming (MIP). \n",
    "\n",
    "$$\\text{min}_{\\boldsymbol{x},\\boldsymbol{y}}\\enspace \\boldsymbol{c}_1^T \\boldsymbol{x} + \\boldsymbol{c}_2^T \\boldsymbol{y} $$ <br/>\n",
    "$$s.t.\\enspace \\boldsymbol{A}_1\\boldsymbol{x}_1 <= \\boldsymbol{b}_1 $$<br/>\n",
    "$$\\enspace \\boldsymbol{A}_2\\boldsymbol{y} <= \\boldsymbol{b}_2 $$<br/>\n",
    "$$\\boldsymbol{u}_1 >= \\boldsymbol{x} >= \\boldsymbol{l}_1 $$ <br/>\n",
    "$$\\boldsymbol{u}_2 >= \\boldsymbol{y} >= \\boldsymbol{l}_2 $$ <br/>\n",
    "$$\\boldsymbol{x}\\in \\mathbb{R}^m $$ <br/>\m",
    "$$\\boldsymbol{y}\\in \\mathbb{Z}^m $$ <br/>\n",
    "       \n",
    "In the above, c_i, x, y, b_i, u_i and l_i (i=1,2) are vectors whereas A_i (i=1,2) is matrix.\n",
    "\n",
    "In the original examples (mipex1.py), you can actually input the elements of the matrix A by specifying its location in the matrix such as the following. For example, in the first row, the elements of the four variables are specified, whereas for the second row, only elements of the first three variables (x1, x2, x3) are specified. If the input data follows a sparse format, inputting data with the following method is actually more advantageous in terms of memory management. \n",
    "\n",
    "<img src=\"./pic1.PNG\" style=\"width: 800px\"><br/>\n",
    "\n",
    "The function \"mip\" below is a wrapper to facilitate our computation with a simplified input format.\n",
    "       "
   ]
  },
  {
   "cell_type": "markdown",
   "metadata": {},
   "source": [
    "## 1. Import Packages"
   ]
  },
  {
   "cell_type": "code",
   "execution_count": 1,
   "metadata": {},
   "outputs": [],
   "source": [
    "from __future__ import print_function\n",
    "import sys\n",
    "import cplex\n",
    "from cplex.exceptions import CplexError"
   ]
  },
  {
   "cell_type": "markdown",
   "metadata": {},
   "source": [
    "## 2. Data"
   ]
  },
  {
   "cell_type": "code",
   "execution_count": 2,
   "metadata": {},
   "outputs": [],
   "source": [
    "# data common to all populateby functions\n",
    "import numpy as np\n",
    "\n",
    "A = np.array([[-1.0, 1.0, 1.0],\n",
    "     [1.0, -3.0, 1.0]])\n",
    "b = [20.0, 30.0]\n",
    "c = [1.0, 2.0, 3.0]\n",
    "u = [40.0, cplex.infinity, cplex.infinity]\n",
    "l = [0, 0, 0]\n",
    "varType = \"CCI\"\n",
    "saveOpt = True\n",
    "quietOpt = True"
   ]
  },
  {
   "cell_type": "markdown",
   "metadata": {},
   "source": [
    "## 3. Code"
   ]
  },
  {
   "cell_type": "code",
   "execution_count": 3,
   "metadata": {},
   "outputs": [],
   "source": [
    "def mip(A, b, c, u, l, varType, saveOpt, quietOpt):\n",
    "\n",
    "    noRow, noCol = len(A), len(A[0])\n",
    "    \n",
    "    my_prob = cplex.Cplex()\n",
    "    my_prob.objective.set_sense(my_prob.objective.sense.maximize)\n",
    "\n",
    "    my_colnames = [\"x\"+str(i) for i in range(noCol)]\n",
    "    my_prob.variables.add(obj=c, ub=u, lb=l, types=varType, names=my_colnames)\n",
    "    \n",
    "    A = [[[i for i in range(noCol)], A[j]] for j in range(noRow)]\n",
    "    my_prob.linear_constraints.add(lin_expr=A, senses=[\"L\" * noRow], rhs=b)\n",
    "    \n",
    "    if quietOpt:\n",
    "        my_prob.set_log_stream(None)\n",
    "        my_prob.set_error_stream(None)\n",
    "        my_prob.set_warning_stream(None)\n",
    "        my_prob.set_results_stream(None)\n",
    "    \n",
    "    try:\n",
    "        my_prob.solve()\n",
    "        if saveOpt:\n",
    "            my_prob.write(\"mip.lp\")\n",
    "            print('LP saved as mip.lp')\n",
    "\n",
    "        x = my_prob.solution.get_values()\n",
    "        obj = my_prob.solution.get_objective_value()\n",
    "        return x, obj\n",
    "    except CplexError as exc:\n",
    "        print(exc)\n",
    "        return [], -1"
   ]
  },
  {
   "cell_type": "code",
   "execution_count": 4,
   "metadata": {},
   "outputs": [
    {
     "name": "stdout",
     "output_type": "stream",
     "text": [
      "LP saved as mip.lp\n",
      "[40.0, 18.0, 42.0]\n",
      "202.0\n"
     ]
    }
   ],
   "source": [
    "x, obj = mip(A, b, c, u, l, varType, saveOpt, quietOpt)\n",
    "print(x)\n",
    "print(obj)"
   ]
  },
  {
   "cell_type": "markdown",
   "metadata": {},
   "source": [
    "Let's make the problem infeasible and see if the function can handle that."
   ]
  },
  {
   "cell_type": "code",
   "execution_count": 5,
   "metadata": {},
   "outputs": [
    {
     "name": "stdout",
     "output_type": "stream",
     "text": [
      "LP saved as mip.lp\n",
      "CPLEX Error  1217: No solution exists.\n",
      "[]\n",
      "-1\n"
     ]
    }
   ],
   "source": [
    "b = [-99999.0, -999999.0]\n",
    "x, obj = mip(A, b, c, u, l, varType, saveOpt, quietOpt)\n",
    "print(x)\n",
    "print(obj)"
   ]
  }
 ],
 "metadata": {
  "kernelspec": {
   "display_name": "Python 3",
   "language": "python",
   "name": "python3"
  },
  "language_info": {
   "codemirror_mode": {
    "name": "ipython",
    "version": 3
   },
   "file_extension": ".py",
   "mimetype": "text/x-python",
   "name": "python",
   "nbconvert_exporter": "python",
   "pygments_lexer": "ipython3",
   "version": "3.5.6"
  }
 },
 "nbformat": 4,
 "nbformat_minor": 2
}
