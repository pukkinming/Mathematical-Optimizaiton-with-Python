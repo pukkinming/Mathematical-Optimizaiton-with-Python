{
 "cells": [
  {
   "cell_type": "markdown",
   "metadata": {},
   "source": [
    "# Assign points to different groups to minimize regression MSE\n",
    "\n",
    "Given a series of points, formulate a MIP in order to assign points into groups for linear regression so that the MSE in each regression group can be most minimized. Points assigned to a group must be next to each other. \n",
    "\n",
    "Reference:\n",
    "- [Fuzzy Mixed Integer Optimization Model for Regression Approach](https://arxiv.org/ftp/arxiv/papers/1503/1503.04220.pdf)\n",
    "\n",
    "## Model\n",
    "\n",
    "Define $b_{k,i}$ as:\n",
    "$$ b_{k,i}=\\begin{cases}1 \\enspace\\text{if } x_i \\text{ is assigned to group } k \\\\ 0 \\enspace\\text{otherwise} \\end{cases} $$\n",
    "\n",
    "$$ \\text{min}_{\\boldsymbol{B}, \\boldsymbol{\\delta}, \\boldsymbol{\\beta}} \\enspace\\enspace \\sum_{i=1}^{n} \\delta_i $$\n",
    "$$ \\text{s.t.} \\enspace\\enspace \\delta_i \\geq (y_i - \\beta_k x_i) - M(1 - b_{k,i}), \\enspace\\enspace \\forall k \\in \\mathbb{K}, i \\in \\mathbb{N} $$\n",
    "$$ \\enspace\\enspace \\delta_i \\geq -(y_i - \\beta_k x_i) - M(1 - b_{k,i}), \\enspace\\enspace \\forall k \\in \\mathbb{K}, i \\in \\mathbb{N} $$\n",
    "$$ \\sum_{k=1}^K b_{k,i} = 1, \\delta_i \\geq 0, \\forall i \\in \\mathbb{N} $$\n",
    "$$ a_{k,i} \\in \\mathbb{B} $$\n",
    "\n",
    "Please note that $M$ and $K$ are parameters to be set."
   ]
  },
  {
   "cell_type": "markdown",
   "metadata": {},
   "source": [
    "## Package"
   ]
  },
  {
   "cell_type": "code",
   "execution_count": 1,
   "metadata": {},
   "outputs": [],
   "source": [
    "%matplotlib inline\n",
    "import matplotlib.pyplot as plt\n",
    "from __future__ import print_function\n",
    "import sys\n",
    "import cplex\n",
    "from cplex.exceptions import CplexError\n",
    "from gurobipy import *"
   ]
  },
  {
   "cell_type": "markdown",
   "metadata": {},
   "source": [
    "## Example\n",
    "\n",
    "In the example below, there are 9 points which can be assigned to 3 groups in order to most minimize the MSE, the regression error."
   ]
  },
  {
   "cell_type": "code",
   "execution_count": 2,
   "metadata": {},
   "outputs": [],
   "source": [
    "y = [1,3,4, 11, 11.5,14,  24,26, 30]"
   ]
  },
  {
   "cell_type": "code",
   "execution_count": 3,
   "metadata": {},
   "outputs": [],
   "source": [
    "x = list(range(1,len(y)+1))"
   ]
  },
  {
   "cell_type": "code",
   "execution_count": 4,
   "metadata": {},
   "outputs": [],
   "source": [
    "def connectPoints(x,y,p1,p2):\n",
    "    x1, x2 = x[p1], x[p2]\n",
    "    y1, y2 = y[p1], y[p2]\n",
    "    plt.plot([x1,x2],[y1,y2],'k-')"
   ]
  },
  {
   "cell_type": "code",
   "execution_count": 5,
   "metadata": {
    "scrolled": true
   },
   "outputs": [
    {
     "data": {
      "image/png": "[encoded data removed]",
      "text/plain": [
       "<Figure size 432x288 with 1 Axes>"
      ]
     },
     "metadata": {
      "needs_background": "light"
     },
     "output_type": "display_data"
    }
   ],
   "source": [
    "plt.scatter(x,y,s=20)\n",
    "connectPoints(x,y,0,2)\n",
    "connectPoints(x,y,3,5)\n",
    "connectPoints(x,y,6,8)\n",
    "plt.show()"
   ]
  },
  {
   "cell_type": "markdown",
   "metadata": {},
   "source": [
    "## Parameters"
   ]
  },
  {
   "cell_type": "code",
   "execution_count": 6,
   "metadata": {},
   "outputs": [],
   "source": [
    "M = 999\n",
    "no_K = 3"
   ]
  },
  {
   "cell_type": "markdown",
   "metadata": {},
   "source": [
    "## Code - Cplex"
   ]
  },
  {
   "cell_type": "code",
   "execution_count": 7,
   "metadata": {},
   "outputs": [],
   "source": [
    "no_I = len(x)\n",
    "\n",
    "optSense = \"min\"\n",
    "\n",
    "colNames = [\"beta_\" + str(i) for i in range(1,no_I+1)] \\\n",
    "         + [\"delta_\" + str(i) for i in range(1,no_I+1)] \\\n",
    "         + [\"b_\" + str(k) + \"_\" + str(i) for k in range(1,no_K+1) for i in range(1,no_I+1)] \n",
    "\n",
    "varType = \"C\" * no_I + \"C\" * no_I + \"B\" * (no_I * no_K)\n",
    "\n",
    "c = [0 for i in range(1,no_I+1)] \\\n",
    "    + [1 for i in range(1,no_I+1)] \\\n",
    "    + [0 for k in range(1,no_K+1) for i in range(1,no_I+1)]"
   ]
  },
  {
   "cell_type": "markdown",
   "metadata": {},
   "source": [
    "For the constraint $\\delta_i \\geq (y_i - \\beta_k x_i) - M(1 - b_{k,i}), \\enspace\\enspace \\forall k \\in \\mathbb{K}, i \\in \\mathbb{N}$:"
   ]
  },
  {
   "cell_type": "code",
   "execution_count": 8,
   "metadata": {},
   "outputs": [],
   "source": [
    "A, b, senses = [], [], \"\"\n",
    "for i in range(1,no_I+1):\n",
    "    for k in range(1,no_K+1):\n",
    "        A.append([ \\\n",
    "            [\"beta_\" + str(k), \"delta_\" + str(i), \"b_\" + str(k) + \"_\" + str(i)], \\\n",
    "            [x[i-1], 1, -M] \\\n",
    "        ])\n",
    "        b.append(y[i-1]-M)\n",
    "        senses += \"G\""
   ]
  },
  {
   "cell_type": "markdown",
   "metadata": {},
   "source": [
    "For the constraint $\\delta_i \\geq -(y_i - \\beta_k x_i) - M(1 - b_{k,i}), \\enspace\\enspace \\forall k \\in \\mathbb{K}, i \\in \\mathbb{N}$:"
   ]
  },
  {
   "cell_type": "code",
   "execution_count": 9,
   "metadata": {},
   "outputs": [],
   "source": [
    "for i in range(1,no_I+1):\n",
    "    for k in range(1,no_K+1):\n",
    "        A.append([ \\\n",
    "            [\"beta_\" + str(k), \"delta_\" + str(i), \"b_\" + str(k) + \"_\" + str(i)], \\\n",
    "            [-x[i-1], 1, -M] \\\n",
    "        ])\n",
    "        b.append(-y[i-1]-M)\n",
    "        senses += \"G\""
   ]
  },
  {
   "cell_type": "markdown",
   "metadata": {},
   "source": [
    "For the constraint $ \\sum_{k=1}^K b_{k,i} = 1, \\forall i \\in \\mathbb{N} $:"
   ]
  },
  {
   "cell_type": "code",
   "execution_count": 10,
   "metadata": {},
   "outputs": [],
   "source": [
    "for i in range(1, no_I+1):\n",
    "    A.append([ \\\n",
    "            [\"b_\" + str(k) + \"_\" + str(i) for k in range(1,no_K+1)], \\\n",
    "            [1 for k in range(1, no_K+1)], \\\n",
    "    ])\n",
    "    b.append(1)\n",
    "    senses += \"E\""
   ]
  },
  {
   "cell_type": "markdown",
   "metadata": {},
   "source": [
    "For variable bounds and other settings:"
   ]
  },
  {
   "cell_type": "code",
   "execution_count": 11,
   "metadata": {},
   "outputs": [],
   "source": [
    "u = [cplex.infinity] * (no_I + no_I + no_I * no_K)\n",
    "l = [-cplex.infinity] * no_I + [0] * no_I + [0] * (no_I * no_K)\n",
    "saveOpt = False\n",
    "saveFile = 'regression_MSE'\n",
    "quietOpt = False"
   ]
  },
  {
   "cell_type": "code",
   "execution_count": 12,
   "metadata": {},
   "outputs": [],
   "source": [
    "def mip_cplex(A, b, c, u, l, varType, optSense, senses, saveOpt, colNames, saveFile, quietOpt):\n",
    "\n",
    "    noRow, noCol = len(A), len(A[0])\n",
    "    \n",
    "    my_prob = cplex.Cplex()\n",
    "    if optSense == 'min':\n",
    "        my_prob.objective.set_sense(my_prob.objective.sense.minimize)\n",
    "    elif optSense == 'max':\n",
    "        my_prob.objective.set_sense(my_prob.objective.sense.maximize)\n",
    "\n",
    "    my_prob.variables.add(obj=c, ub=u, lb=l, types=varType, names=colNames)\n",
    "    \n",
    "    my_prob.linear_constraints.add(lin_expr=A, senses=senses, rhs=b)\n",
    "    \n",
    "    if quietOpt:\n",
    "        my_prob.set_log_stream(None)\n",
    "        my_prob.set_error_stream(None)\n",
    "        my_prob.set_warning_stream(None)\n",
    "        my_prob.set_results_stream(None)\n",
    "    \n",
    "    try:\n",
    "        my_prob.solve()\n",
    "        if saveOpt:\n",
    "            my_prob.write( saveFile + \".lp\")\n",
    "            print(\"LP saved as \" + saveFile + \".lp\")\n",
    "\n",
    "        x = my_prob.solution.get_values()\n",
    "        obj = my_prob.solution.get_objective_value()\n",
    "        return x, obj\n",
    "    except CplexError as exc:\n",
    "        print(exc)\n",
    "        return [], -1"
   ]
  },
  {
   "cell_type": "code",
   "execution_count": 13,
   "metadata": {},
   "outputs": [
    {
     "name": "stdout",
     "output_type": "stream",
     "text": [
      "CPXPARAM_Read_DataCheck                          1\n",
      "Found incumbent of value 27.595238 after 0.00 sec. (0.01 ticks)\n"
     ]
    },
    {
     "name": "stderr",
     "output_type": "stream",
     "text": [
      "Warning:  Non-integral bounds for integer variables rounded.\n"
     ]
    },
    {
     "name": "stdout",
     "output_type": "stream",
     "text": [
      "Tried aggregator 1 time.\n",
      "MIP Presolve eliminated 0 rows and 6 columns.\n",
      "Reduced MIP has 63 rows, 39 columns, and 189 nonzeros.\n",
      "Reduced MIP has 27 binaries, 0 generals, 0 SOSs, and 0 indicators.\n",
      "Presolve time = 0.01 sec. (0.08 ticks)\n",
      "Probing time = 0.00 sec. (0.01 ticks)\n",
      "Tried aggregator 1 time.\n",
      "Reduced MIP has 63 rows, 39 columns, and 189 nonzeros.\n",
      "Reduced MIP has 27 binaries, 0 generals, 0 SOSs, and 0 indicators.\n",
      "Presolve time = 0.00 sec. (0.13 ticks)\n",
      "Probing time = 0.00 sec. (0.01 ticks)\n",
      "Clique table members: 9.\n",
      "MIP emphasis: balance optimality and feasibility.\n",
      "MIP search method: dynamic search.\n",
      "Parallel mode: deterministic, using up to 12 threads.\n",
      "Root relaxation solution time = 0.00 sec. (0.07 ticks)\n",
      "\n",
      "        Nodes                                         Cuts/\n",
      "   Node  Left     Objective  IInf  Best Integer    Best Bound    ItCnt     Gap\n",
      "\n",
      "*     0+    0                           27.5952        0.0000           100.00%\n",
      "*     0+    0                           25.7500        0.0000           100.00%\n",
      "      0     0        0.0000    18       25.7500        0.0000        9  100.00%\n",
      "      0     0        0.0000    14       25.7500       Cuts: 6       16  100.00%\n",
      "*     0+    0                           24.9167        0.0000           100.00%\n",
      "      0     0        0.0000    12       24.9167      Cuts: 10       25  100.00%\n",
      "*     0+    0                           21.8333        0.0000           100.00%\n",
      "      0     0        0.0000    15       21.8333       Cuts: 6       33  100.00%\n",
      "*     0+    0                           13.7500        0.0000           100.00%\n",
      "      0     0        0.0000    12       13.7500       Cuts: 5       40  100.00%\n",
      "*     0+    0                            3.8333        0.0000           100.00%\n",
      "      0     2        0.0000    12        3.8333        0.0000       45  100.00%\n",
      "Elapsed time = 0.10 sec. (3.42 ticks, tree = 0.01 MB, solutions = 6)\n",
      "\n",
      "Implied bound cuts applied:  8\n",
      "Flow cuts applied:  5\n",
      "Mixed integer rounding cuts applied:  3\n",
      "\n",
      "Root node processing (before b&c):\n",
      "  Real time             =    0.09 sec. (3.39 ticks)\n",
      "Parallel b&c, 12 threads:\n",
      "  Real time             =    0.08 sec. (1.02 ticks)\n",
      "  Sync time (average)   =    0.06 sec.\n",
      "  Wait time (average)   =    0.00 sec.\n",
      "                          ------------\n",
      "Total (root+branch&cut) =    0.17 sec. (4.41 ticks)\n",
      "3.8333333333333313\n",
      "CPU times: user 1.32 s, sys: 11 ms, total: 1.33 s\n",
      "Wall time: 188 ms\n"
     ]
    }
   ],
   "source": [
    "%%time\n",
    "sol, obj_cplex = mip_cplex(A, b, c, u, l, varType, optSense, senses, saveOpt, colNames, saveFile, quietOpt)\n",
    "print(obj_cplex)"
   ]
  },
  {
   "cell_type": "code",
   "execution_count": 14,
   "metadata": {},
   "outputs": [
    {
     "name": "stdout",
     "output_type": "stream",
     "text": [
      "Beta coefficient is\n",
      "[3.333333333333333, 1.3333333333333333, 2.333333333333333, 0.0, 0.0, 0.0, 0.0, 0.0, 0.0]\n"
     ]
    }
   ],
   "source": [
    "print(\"Beta coefficient is\")\n",
    "print(sol[0:no_I])"
   ]
  },
  {
   "cell_type": "code",
   "execution_count": 15,
   "metadata": {},
   "outputs": [
    {
     "name": "stdout",
     "output_type": "stream",
     "text": [
      "Delta coefficient is\n",
      "[0.33333333333333326, 0.3333333333333335, 0.0, 1.6666666666666679, 0.1666666666666643, 0.0, 0.6666666666666679, 0.6666666666666643, 0.0]\n"
     ]
    }
   ],
   "source": [
    "print(\"Delta coefficient is\")\n",
    "print(sol[no_I:2*no_I])"
   ]
  },
  {
   "cell_type": "code",
   "execution_count": 16,
   "metadata": {},
   "outputs": [
    {
     "name": "stdout",
     "output_type": "stream",
     "text": [
      "B coefficient is\n",
      "[0.0, 0.0, 0.0, 0.0, 0.0, 0.0, 1.0, 1.0, 1.0, 1.0, 1.0, 1.0, 0.0, 0.0, 0.0, 0.0, 0.0, 0.0, 0.0, 0.0, 0.0, 1.0, 1.0, 1.0, 0.0, 0.0, 0.0]\n",
      "------------\n",
      "['0', '0', '0', '0', '0', '0', '1', '1', '1']\n",
      "['1', '1', '1', '0', '0', '0', '0', '0', '0']\n",
      "['0', '0', '0', '1', '1', '1', '0', '0', '0']\n"
     ]
    }
   ],
   "source": [
    "old_B = sol[2*no_I:]\n",
    "consolidated_B = []\n",
    "idx = 0\n",
    "\n",
    "print(\"B coefficient is\")\n",
    "print(old_B)\n",
    "print(\"------------\")\n",
    "for k in range(1,no_K+1):\n",
    "    print([\"%.0f\" % abs(elem) for elem in old_B[idx:idx+no_I]])\n",
    "    idx += no_I"
   ]
  },
  {
   "cell_type": "markdown",
   "metadata": {},
   "source": [
    "## Code - Gurobi\n",
    "\n",
    "Reference: \n",
    "- [Github - wurmen - Prototype example type 2](https://github.com/wurmen/Gurobi-Python/blob/master/python-gurobi%20%20model/Prototype%20example_type2.md)\n",
    "- [Github - wurmen - Optimal employee schedule](https://github.com/wurmen/Gurobi-Python/blob/master/python-gurobi%20%20model/Optimal%20Employee%20Work%20Schedule.md)"
   ]
  },
  {
   "cell_type": "code",
   "execution_count": 17,
   "metadata": {},
   "outputs": [],
   "source": [
    "def mip_gurobi(x, y, M):\n",
    "    m = Model('mip')\n",
    "#     m.setParam('OutputFlag',0)\n",
    "    \n",
    "    beta, delta, B = {}, {}, {}\n",
    "    \n",
    "    for k in range(no_K):\n",
    "        beta[k] = m.addVar(vtype=GRB.CONTINUOUS, name=\"beta_\"+str(k))\n",
    "        \n",
    "    for i in range(no_I):\n",
    "        delta[i] = m.addVar(lb=0, vtype=GRB.CONTINUOUS, name=\"delta_\"+str(i))\n",
    "        for k in range(no_K):\n",
    "            B[k,i] = m.addVar(vtype=GRB.BINARY, name=\"B_\"+str(k)+\"_\"+str(i))\n",
    "    \n",
    "    m.setObjective(quicksum(delta[i] for i in range(no_I)), GRB.MINIMIZE)\n",
    "    \n",
    "    for i in range(no_I):\n",
    "        m.addConstr(quicksum(B[k,i] for k in range(no_K)) == 1)\n",
    "        for k in range(no_K):\n",
    "            m.addConstr(delta[i] >= y[i] - beta[k] * x[i] - M + M * B[k,i])\n",
    "            m.addConstr(delta[i] >= -y[i] + beta[k] * x[i] - M + M * B[k,i])\n",
    "\n",
    "    m.update()\n",
    "    m.optimize()\n",
    "\n",
    "    return m.objVal, GRB.Status.OPTIMAL, m.getAttr('x', beta), m.getAttr('x', delta), m.getAttr('x', B)"
   ]
  },
  {
   "cell_type": "code",
   "execution_count": 18,
   "metadata": {},
   "outputs": [
    {
     "name": "stdout",
     "output_type": "stream",
     "text": [
      "Optimize a model with 63 rows, 39 columns and 189 nonzeros\n",
      "Variable types: 12 continuous, 27 integer (27 binary)\n",
      "Coefficient statistics:\n",
      "  Matrix range     [1e+00, 1e+03]\n",
      "  Objective range  [1e+00, 1e+00]\n",
      "  Bounds range     [1e+00, 1e+00]\n",
      "  RHS range        [1e+00, 1e+03]\n",
      "Found heuristic solution: objective 124.5\n",
      "Presolve removed 6 rows and 0 columns\n",
      "Presolve time: 0.00s\n",
      "Presolved: 57 rows, 39 columns, 171 nonzeros\n",
      "Variable types: 12 continuous, 27 integer (27 binary)\n",
      "\n",
      "Root relaxation: objective 0.000000e+00, 31 iterations, 0.00 seconds\n",
      "\n",
      "    Nodes    |    Current Node    |     Objective Bounds      |     Work\n",
      " Expl Unexpl |  Obj  Depth IntInf | Incumbent    BestBd   Gap | It/Node Time\n",
      "\n",
      "     0     0    0.00000    0   15  124.50000    0.00000   100%     -    0s\n",
      "H    0     0                      10.8333333    0.00000   100%     -    0s\n",
      "H    0     0                       3.8333333    0.00000   100%     -    0s\n",
      "     0     0    0.00000    0   19    3.83333    0.00000   100%     -    0s\n",
      "     0     0    0.00000    0   16    3.83333    0.00000   100%     -    0s\n",
      "     0     0    0.03357    0   22    3.83333    0.03357  99.1%     -    0s\n",
      "     0     0    0.05798    0   23    3.83333    0.05798  98.5%     -    0s\n",
      "     0     0    0.09112    0   21    3.83333    0.09112  97.6%     -    0s\n",
      "     0     0    0.14165    0   21    3.83333    0.14165  96.3%     -    0s\n",
      "     0     0    0.28529    0   19    3.83333    0.28529  92.6%     -    0s\n",
      "     0     0    0.29230    0   19    3.83333    0.29230  92.4%     -    0s\n",
      "     0     0    0.30824    0   23    3.83333    0.30824  92.0%     -    0s\n",
      "     0     0    0.30824    0   20    3.83333    0.30824  92.0%     -    0s\n",
      "     0     2    0.30824    0   20    3.83333    0.30824  92.0%     -    0s\n",
      "\n",
      "Cutting planes:\n",
      "  Gomory: 4\n",
      "  MIR: 24\n",
      "\n",
      "Explored 32 nodes (426 simplex iterations) in 0.03 seconds\n",
      "Thread count was 12 (of 12 available processors)\n",
      "\n",
      "Solution count 3: 3.83333 10.8333 124.5 \n",
      "Pool objective bound 3.83333\n",
      "\n",
      "Optimal solution found (tolerance 1.00e-04)\n",
      "Best objective 3.833333333333e+00, best bound 3.833333333333e+00, gap 0.0000%\n",
      "3.833333333333237\n",
      "CPU times: user 117 ms, sys: 4.04 ms, total: 121 ms\n",
      "Wall time: 40.5 ms\n"
     ]
    }
   ],
   "source": [
    "%%time\n",
    "obj_gurobi, status, beta, delta, B = mip_gurobi(x, y, M)\n",
    "print(obj_gurobi)"
   ]
  },
  {
   "cell_type": "code",
   "execution_count": 19,
   "metadata": {},
   "outputs": [
    {
     "name": "stdout",
     "output_type": "stream",
     "text": [
      "Beta coefficient is\n",
      "{0: 1.3333333333333466, 1: 3.333333333333325, 2: 2.333333333333324}\n",
      "------------\n",
      "[1.3333333333333466, 3.333333333333325, 2.333333333333324]\n"
     ]
    }
   ],
   "source": [
    "print(\"Beta coefficient is\")\n",
    "print(beta)\n",
    "print(\"------------\")\n",
    "print([beta[elem] for elem in range(no_K)])"
   ]
  },
  {
   "cell_type": "code",
   "execution_count": 20,
   "metadata": {},
   "outputs": [
    {
     "name": "stdout",
     "output_type": "stream",
     "text": [
      "Delta coefficient is\n",
      "{0: 0.3333333333333328, 1: 0.3333333333332864, 2: 0.0, 3: 1.6666666666666643, 4: 0.16666666666666785, 5: 0.0, 6: 0.6666666666666785, 7: 0.6666666666666075, 8: 0.0}\n",
      "------------\n",
      "[0.3333333333333328, 0.3333333333332864, 0.0, 1.6666666666666643, 0.16666666666666785, 0.0, 0.6666666666666785, 0.6666666666666075, 0.0]\n"
     ]
    }
   ],
   "source": [
    "print(\"Delta coefficient is\")\n",
    "print(delta)\n",
    "print(\"------------\")\n",
    "print([delta[elem] for elem in range(no_I)])"
   ]
  },
  {
   "cell_type": "code",
   "execution_count": 21,
   "metadata": {},
   "outputs": [
    {
     "name": "stdout",
     "output_type": "stream",
     "text": [
      "B coefficient is\n",
      "{(2, 7): 0.0, (2, 6): 0.0, (2, 8): 0.0, (2, 2): 0.0, (2, 1): 0.0, (1, 3): 0.0, (1, 6): 1.0, (1, 4): 0.0, (0, 4): 0.0, (1, 0): 0.0, (2, 0): 0.0, (2, 5): 1.0, (1, 2): 0.0, (0, 8): 0.0, (0, 5): 0.0, (0, 2): 1.0, (0, 6): 0.0, (0, 0): 1.0, (2, 4): 1.0, (1, 5): 0.0, (1, 8): 1.0, (1, 7): 1.0, (2, 3): 1.0, (0, 1): 1.0, (0, 7): 0.0, (0, 3): 0.0, (1, 1): 0.0}\n",
      "------------\n",
      "[1.0, 1.0, 1.0, 0.0, 0.0, 0.0, 0.0, 0.0, 0.0]\n",
      "[0.0, 0.0, 0.0, 0.0, 0.0, 0.0, 1.0, 1.0, 1.0]\n",
      "[0.0, 0.0, 0.0, 1.0, 1.0, 1.0, 0.0, 0.0, 0.0]\n"
     ]
    }
   ],
   "source": [
    "print(\"B coefficient is\")\n",
    "print(B)\n",
    "print(\"------------\")\n",
    "for k in range(no_K):\n",
    "    print([abs(B[k, i]) for i in range(no_I)])"
   ]
  }
 ],
 "metadata": {
  "kernelspec": {
   "display_name": "Python 3",
   "language": "python",
   "name": "python3"
  },
  "language_info": {
   "codemirror_mode": {
    "name": "ipython",
    "version": 3
   },
   "file_extension": ".py",
   "mimetype": "text/x-python",
   "name": "python",
   "nbconvert_exporter": "python",
   "pygments_lexer": "ipython3",
   "version": "3.5.6"
  },
  "varInspector": {
   "cols": {
    "lenName": 16,
    "lenType": 16,
    "lenVar": 40
   },
   "kernels_config": {
    "python": {
     "delete_cmd_postfix": "",
     "delete_cmd_prefix": "del ",
     "library": "var_list.py",
     "varRefreshCmd": "print(var_dic_list())"
    },
    "r": {
     "delete_cmd_postfix": ") ",
     "delete_cmd_prefix": "rm(",
     "library": "var_list.r",
     "varRefreshCmd": "cat(var_dic_list()) "
    }
   },
   "oldHeight": 569.8,
   "position": {
    "height": "40px",
    "left": "1159.6px",
    "right": "20px",
    "top": "120px",
    "width": "339.4px"
   },
   "types_to_exclude": [
    "module",
    "function",
    "builtin_function_or_method",
    "instance",
    "_Feature"
   ],
   "varInspector_section_display": "none",
   "window_display": true
  }
 },
 "nbformat": 4,
 "nbformat_minor": 2
}
