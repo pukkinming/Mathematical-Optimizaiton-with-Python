{
 "cells": [
  {
   "cell_type": "markdown",
   "metadata": {},
   "source": [
    "# Linear Programming with Python and Cplex\n",
    "\n",
    "This is a simple example of using Python and Cplex to solve a linear programming.\n",
    "\n",
    "According to [Wikipedia](https://en.wikipedia.org/wiki/Linear_programming), linear programming (LP, also called linear optimization) is a method to achieve the best outcome (such as maximum profit or lowest cost) in a mathematical model whose requirements are represented by linear relationships. Linear programming is a special case of mathematical programming (also known as mathematical optimization).\n",
    "\n",
    "$$\\text{min}_{\\boldsymbol{x}}\\enspace \\boldsymbol{c}^T \\boldsymbol{x} $$ <br/>\n",
    "$$s.t.\\enspace \\boldsymbol{A}\\boldsymbol{x} <= \\boldsymbol{b} $$<br/>\n",
    "$$\\boldsymbol{u} >= \\boldsymbol{x} >= \\boldsymbol{l} $$ <br/>\n",
    "       \n",
    "In the above, c, x, b, u and l are vectors whereas A is matrix.\n",
    "\n",
    "In the original examples (lpex1.py), you can actually input the elements of the matrix A by specifying its location  in the matrix. The function \"lprog\" below is a wrapper to facilitate our computation with a simplified input format.\n",
    "       "
   ]
  },
  {
   "cell_type": "markdown",
   "metadata": {},
   "source": [
    "## 1. Import Packages"
   ]
  },
  {
   "cell_type": "code",
   "execution_count": 1,
   "metadata": {},
   "outputs": [],
   "source": [
    "from __future__ import print_function\n",
    "import sys\n",
    "import cplex\n",
    "from cplex.exceptions import CplexError"
   ]
  },
  {
   "cell_type": "markdown",
   "metadata": {},
   "source": [
    "## 2. Data"
   ]
  },
  {
   "cell_type": "code",
   "execution_count": 2,
   "metadata": {},
   "outputs": [],
   "source": [
    "# data common to all populateby functions\n",
    "import numpy as np\n",
    "\n",
    "A = np.array([[-1.0, 1.0, 1.0],\n",
    "     [1.0, -3.0, 1.0]])\n",
    "b = [20.0, 30.0]\n",
    "c = [1.0, 2.0, 3.0]\n",
    "u = [40.0, cplex.infinity, cplex.infinity]\n",
    "l = [0, 0, 0]\n",
    "saveOpt = True\n",
    "quietOpt = True"
   ]
  },
  {
   "cell_type": "markdown",
   "metadata": {},
   "source": [
    "## 3. Code"
   ]
  },
  {
   "cell_type": "code",
   "execution_count": 3,
   "metadata": {},
   "outputs": [],
   "source": [
    "def lprog(A, b, c, u, l, saveOpt, quietOpt):\n",
    "\n",
    "    noRow, noCol = len(A), len(A[0])\n",
    "    \n",
    "    my_prob = cplex.Cplex()\n",
    "    my_prob.objective.set_sense(my_prob.objective.sense.maximize)\n",
    "\n",
    "    my_colnames = [\"x\"+str(i) for i in range(noCol)]\n",
    "    my_prob.variables.add(obj=c, ub=u, lb=l, names=my_colnames)\n",
    "    \n",
    "    A = [[[i for i in range(noCol)], A[j]] for j in range(noRow)]\n",
    "    my_prob.linear_constraints.add(lin_expr=A, senses=[\"L\" * noRow], rhs=b)\n",
    "    \n",
    "    if quietOpt:\n",
    "        my_prob.set_log_stream(None)\n",
    "        my_prob.set_error_stream(None)\n",
    "        my_prob.set_warning_stream(None)\n",
    "        my_prob.set_results_stream(None)\n",
    "    \n",
    "    try:\n",
    "        my_prob.solve()\n",
    "        if saveOpt:\n",
    "            my_prob.write(\"lprog.lp\")\n",
    "            print('LP saved as lprog.lp')\n",
    "\n",
    "        x = my_prob.solution.get_values()\n",
    "        obj = my_prob.solution.get_objective_value()\n",
    "        return x, obj\n",
    "    except CplexError as exc:\n",
    "        print(exc)\n",
    "        return [], -1"
   ]
  },
  {
   "cell_type": "code",
   "execution_count": 4,
   "metadata": {},
   "outputs": [
    {
     "name": "stdout",
     "output_type": "stream",
     "text": [
      "LP saved as lprog.lp\n",
      "[40.0, 17.5, 42.5]\n",
      "202.5\n"
     ]
    }
   ],
   "source": [
    "x, obj = lprog(A, b, c, u, l, saveOpt, quietOpt)\n",
    "print(x)\n",
    "print(obj)"
   ]
  },
  {
   "cell_type": "markdown",
   "metadata": {},
   "source": [
    "Let's make the problem infeasible and see if the function can handle that."
   ]
  },
  {
   "cell_type": "code",
   "execution_count": 5,
   "metadata": {},
   "outputs": [
    {
     "name": "stdout",
     "output_type": "stream",
     "text": [
      "LP saved as lprog.lp\n",
      "CPLEX Error  1217: No solution exists.\n",
      "[]\n",
      "-1\n"
     ]
    }
   ],
   "source": [
    "b = [-99999.0, -999999.0]\n",
    "x, obj = lprog(A, b, c, u, l, saveOpt, quietOpt)\n",
    "print(x)\n",
    "print(obj)"
   ]
  }
 ],
 "metadata": {
  "kernelspec": {
   "display_name": "Python 3",
   "language": "python",
   "name": "python3"
  },
  "language_info": {
   "codemirror_mode": {
    "name": "ipython",
    "version": 3
   },
   "file_extension": ".py",
   "mimetype": "text/x-python",
   "name": "python",
   "nbconvert_exporter": "python",
   "pygments_lexer": "ipython3",
   "version": "3.5.6"
  }
 },
 "nbformat": 4,
 "nbformat_minor": 2
}
